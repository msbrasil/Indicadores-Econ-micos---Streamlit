{
 "cells": [
  {
   "cell_type": "markdown",
   "metadata": {},
   "source": [
    "**Esse arquivo é ignorado pelo Git. O script somente deve ser usado para testar gráficos antes de inserir no arquivo indicadores.py**"
   ]
  },
  {
   "cell_type": "code",
   "execution_count": 199,
   "metadata": {},
   "outputs": [],
   "source": [
    "import pandas as pd\n",
    "import requests\n",
    "import sidrapy\n",
    "import numpy as np\n",
    "import scripts_saneamento\n",
    "import datetime as dt"
   ]
  },
  {
   "cell_type": "code",
   "execution_count": 214,
   "metadata": {},
   "outputs": [],
   "source": [
    "ipca = scripts_saneamento.importa_ipca('ipca_202210SerieHist.xls')"
   ]
  },
  {
   "cell_type": "code",
   "execution_count": 215,
   "metadata": {},
   "outputs": [],
   "source": [
    "ipca['Data'] = pd.to_datetime(ipca['Data'], format='%m/%Y')\n",
    "ipca.set_index('Data', inplace=True)"
   ]
  },
  {
   "cell_type": "code",
   "execution_count": 202,
   "metadata": {},
   "outputs": [
    {
     "data": {
      "text/plain": [
       "['IPCA - Variação acumulada em 12 meses',\n",
       " 'IPCA - Variação acumulada no ano',\n",
       " 'IPCA - Variação mensal']"
      ]
     },
     "execution_count": 202,
     "metadata": {},
     "output_type": "execute_result"
    }
   ],
   "source": [
    "['IPCA - Variação acumulada em 12 meses', 'IPCA - Variação acumulada no ano', 'IPCA - Variação mensal']"
   ]
  },
  {
   "cell_type": "code",
   "execution_count": 216,
   "metadata": {},
   "outputs": [],
   "source": [
    "ipca['index'] = ipca.index.year"
   ]
  },
  {
   "cell_type": "code",
   "execution_count": 217,
   "metadata": {},
   "outputs": [],
   "source": [
    "ipca['IPCA - Variação mensal'] = ipca['Índice'].pct_change(periods=1)*100"
   ]
  },
  {
   "cell_type": "code",
   "execution_count": 219,
   "metadata": {},
   "outputs": [],
   "source": [
    "ipca['IPCA - Variação acumulada em 12 meses'] = ipca['Índice'].pct_change(periods=12)*100"
   ]
  },
  {
   "cell_type": "code",
   "execution_count": 224,
   "metadata": {},
   "outputs": [],
   "source": [
    "ipca[\"IPCA - Variação acumulada no ano\"] = ipca.groupby([ipca.index.year])[\"IPCA - Variação mensal\"].transform(sum)"
   ]
  },
  {
   "cell_type": "code",
   "execution_count": 207,
   "metadata": {},
   "outputs": [],
   "source": [
    "for mes in ipca.index.month:\n",
    "    ipca['IPCA - Variação acumulada no ano'] = ipca['IPCA - Variação mensal'].rolling(mes).sum()"
   ]
  },
  {
   "cell_type": "code",
   "execution_count": 208,
   "metadata": {},
   "outputs": [
    {
     "data": {
      "text/plain": [
       "45.34661382775458"
      ]
     },
     "execution_count": 208,
     "metadata": {},
     "output_type": "execute_result"
    }
   ],
   "source": [
    "6407.93 / 141.31\t"
   ]
  },
  {
   "cell_type": "code",
   "execution_count": 225,
   "metadata": {},
   "outputs": [
    {
     "data": {
      "text/html": [
       "<div>\n",
       "<style scoped>\n",
       "    .dataframe tbody tr th:only-of-type {\n",
       "        vertical-align: middle;\n",
       "    }\n",
       "\n",
       "    .dataframe tbody tr th {\n",
       "        vertical-align: top;\n",
       "    }\n",
       "\n",
       "    .dataframe thead th {\n",
       "        text-align: right;\n",
       "    }\n",
       "</style>\n",
       "<table border=\"1\" class=\"dataframe\">\n",
       "  <thead>\n",
       "    <tr style=\"text-align: right;\">\n",
       "      <th></th>\n",
       "      <th>index</th>\n",
       "      <th>Índice</th>\n",
       "      <th>IPCA - Variação mensal</th>\n",
       "      <th>IPCA - Variação acumulada em 12 meses</th>\n",
       "      <th>IPCA - Variação acumulada no ano</th>\n",
       "    </tr>\n",
       "    <tr>\n",
       "      <th>Data</th>\n",
       "      <th></th>\n",
       "      <th></th>\n",
       "      <th></th>\n",
       "      <th></th>\n",
       "      <th></th>\n",
       "    </tr>\n",
       "  </thead>\n",
       "  <tbody>\n",
       "    <tr>\n",
       "      <th>2022-06-01</th>\n",
       "      <td>2022</td>\n",
       "      <td>6455.85</td>\n",
       "      <td>0.67</td>\n",
       "      <td>11.887</td>\n",
       "      <td>4.63</td>\n",
       "    </tr>\n",
       "    <tr>\n",
       "      <th>2022-07-01</th>\n",
       "      <td>2022</td>\n",
       "      <td>6411.95</td>\n",
       "      <td>-0.68</td>\n",
       "      <td>10.069</td>\n",
       "      <td>4.63</td>\n",
       "    </tr>\n",
       "    <tr>\n",
       "      <th>2022-08-01</th>\n",
       "      <td>2022</td>\n",
       "      <td>6388.87</td>\n",
       "      <td>-0.36</td>\n",
       "      <td>8.727</td>\n",
       "      <td>4.63</td>\n",
       "    </tr>\n",
       "    <tr>\n",
       "      <th>2022-09-01</th>\n",
       "      <td>2022</td>\n",
       "      <td>6370.34</td>\n",
       "      <td>-0.29</td>\n",
       "      <td>7.169</td>\n",
       "      <td>4.63</td>\n",
       "    </tr>\n",
       "    <tr>\n",
       "      <th>2022-10-01</th>\n",
       "      <td>2022</td>\n",
       "      <td>6407.93</td>\n",
       "      <td>0.59</td>\n",
       "      <td>6.470</td>\n",
       "      <td>4.63</td>\n",
       "    </tr>\n",
       "  </tbody>\n",
       "</table>\n",
       "</div>"
      ],
      "text/plain": [
       "            index   Índice  IPCA - Variação mensal  IPCA - Variação acumulada em 12 meses  IPCA - Variação acumulada no ano\n",
       "Data                                                                                                                       \n",
       "2022-06-01   2022  6455.85                    0.67                                 11.887                              4.63\n",
       "2022-07-01   2022  6411.95                   -0.68                                 10.069                              4.63\n",
       "2022-08-01   2022  6388.87                   -0.36                                  8.727                              4.63\n",
       "2022-09-01   2022  6370.34                   -0.29                                  7.169                              4.63\n",
       "2022-10-01   2022  6407.93                    0.59                                  6.470                              4.63"
      ]
     },
     "execution_count": 225,
     "metadata": {},
     "output_type": "execute_result"
    }
   ],
   "source": [
    "ipca.tail()"
   ]
  },
  {
   "cell_type": "code",
   "execution_count": 210,
   "metadata": {},
   "outputs": [],
   "source": [
    "data_atual = dt.datetime.now() # captura data para determinar período na consulta da API\n",
    "ipca_brasil = requests.get(f'https://apisidra.ibge.gov.br/values/t/7060/n1/all/v/63,69,2265/p/202101-{data_atual.year}{data_atual.month-1}/c315/7169/d/v63%202')\n",
    "ipca_brasil = ipca_brasil.json()\n",
    "ipca_brasil = pd.DataFrame(ipca_brasil)\n",
    "\n",
    "## Tratamento dos dados do IPCA (Variação Mensal, Acumulado no Ano e Acumulado em 12 Meses)\n",
    "\n",
    "ipca_brasil.columns = ipca_brasil.iloc[0] \n",
    "ipca_brasil = ipca_brasil[1:]\n",
    "ipca_brasil['Valor'] = ipca_brasil['Valor'].astype(float)\n",
    "ipca_brasil['Mês (Código)'] = pd.to_datetime(ipca_brasil['Mês (Código)'], format='%Y%m')\n",
    "\n",
    "ipca_brasil = pd.crosstab(ipca_brasil['Mês (Código)'], ipca_brasil['Variável'], ipca_brasil['Valor'], aggfunc='sum')"
   ]
  },
  {
   "cell_type": "code",
   "execution_count": 211,
   "metadata": {},
   "outputs": [
    {
     "data": {
      "text/plain": [
       "Index(['IPCA - Variação acumulada em 12 meses', 'IPCA - Variação acumulada no ano', 'IPCA - Variação mensal'], dtype='object', name='Variável')"
      ]
     },
     "execution_count": 211,
     "metadata": {},
     "output_type": "execute_result"
    }
   ],
   "source": [
    "ipca_brasil.columns"
   ]
  }
 ],
 "metadata": {
  "kernelspec": {
   "display_name": "Python 3.9.7 ('base')",
   "language": "python",
   "name": "python3"
  },
  "language_info": {
   "codemirror_mode": {
    "name": "ipython",
    "version": 3
   },
   "file_extension": ".py",
   "mimetype": "text/x-python",
   "name": "python",
   "nbconvert_exporter": "python",
   "pygments_lexer": "ipython3",
   "version": "3.9.7"
  },
  "orig_nbformat": 4,
  "vscode": {
   "interpreter": {
    "hash": "08a400adeb6830322ec40344573c657b15a9eb2eef6e1c7ab2815bda50c98d3e"
   }
  }
 },
 "nbformat": 4,
 "nbformat_minor": 2
}
